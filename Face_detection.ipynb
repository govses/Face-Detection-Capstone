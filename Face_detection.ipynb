{
 "cells": [
  {
   "cell_type": "markdown",
   "id": "20cad604",
   "metadata": {},
   "source": [
    "# Face-Detection data collection and detection."
   ]
  },
  {
   "cell_type": "code",
   "execution_count": null,
   "id": "beb89a88",
   "metadata": {},
   "outputs": [
    {
     "name": "stdout",
     "output_type": "stream",
     "text": [
      "\n",
      " Assign an ID number and press enter 1\n",
      "\n",
      "  Look the camera and wait ...\n",
      "\n",
      " Exiting Program and cleanup stuff\n",
      "Detector backend is  opencv\n",
      "VGG-Face  is built\n"
     ]
    },
    {
     "name": "stderr",
     "output_type": "stream",
     "text": [
      "Finding embedding for User_1_0_9972.jpg: 100%|███████████████████████████████████████| 102/102 [01:14<00:00,  1.36it/s]\n"
     ]
    },
    {
     "name": "stdout",
     "output_type": "stream",
     "text": [
      "Embeddings found for given data set in  74.8865659236908  seconds\n"
     ]
    }
   ],
   "source": [
    "import keras\n",
    "import cv2\n",
    "import os\n",
    "import numpy as np\n",
    "from PIL import Image\n",
    "import matplotlib.pyplot as plt\n",
    "\n",
    "datagen = keras.preprocessing.image.ImageDataGenerator(\n",
    "    rotation_range=30,\n",
    "    width_shift_range=0.0,\n",
    "    height_shift_range=0.0,\n",
    "    horizontal_flip=True,\n",
    "    vertical_flip=True,\n",
    "    rescale=None,\n",
    "    preprocessing_function=None\n",
    ")\n",
    "\n",
    "def mark_images(f):\n",
    "    ex = -1\n",
    "    img = cv2.resize(cv2.imread(f), (640, 480))\n",
    "    gray = cv2.cvtColor(img, cv2.COLOR_BGR2GRAY)\n",
    "    face_detector = cv2.CascadeClassifier(cv2.data.haarcascades + 'haarcascade_frontalface_default.xml')\n",
    "    faces = face_detector.detectMultiScale(gray, 1.3, 5)\n",
    "    for (x,y,w,h) in faces:\n",
    "        cv2.rectangle(img, (x,y), (x+w,y+h), (255,0,0), 2)\n",
    "        plt.imshow(gray[y:y+h,x:x+w])\n",
    "        plt.show()\n",
    "        face_id = input('\\n Assign an ID number and press enter ')\n",
    "        im = np.expand_dims(np.expand_dims(gray[y:y+h,x:x+w], 0), 3)\n",
    "        datagen.fit(im)\n",
    "        for x, val in zip(datagen.flow(im, save_to_dir='C:\\\\Users\\\\Govardhan\\\\\\\\capstone\\\\face\\\\dataset', save_prefix=\"User_\" + str(face_id), save_format='jpg'),range(100)):\n",
    "            ex = 1\n",
    "\n",
    "\n",
    "cam = cv2.VideoCapture(0)\n",
    "cam.set(3, 640)\n",
    "cam.set(4, 480)\n",
    "face_detector = cv2.CascadeClassifier(cv2.data.haarcascades + 'haarcascade_frontalface_default.xml')\n",
    "\n",
    "face_id = input('\\n Assign an ID number and press enter ')\n",
    "print(\"\\n  Look the camera and wait ...\")\n",
    "\n",
    "ex = -1\n",
    "while (True):\n",
    "    ret, img = cam.read()\n",
    "    gray = cv2.cvtColor(img, cv2.COLOR_BGR2GRAY)\n",
    "    faces = face_detector.detectMultiScale(gray, 1.3, 5)\n",
    "\n",
    "    for (x, y, w, h) in faces:\n",
    "\n",
    "        cv2.rectangle(img, (x, y), (x + w, y + h), (255, 0, 0), 2)\n",
    "        cv2.imshow('image', img)\n",
    "        im = np.expand_dims(np.expand_dims(gray[y:y + h, x:x + w], 0), 3)\n",
    "        datagen.fit(im)\n",
    "\n",
    "        for x, val in zip(datagen.flow(im, save_to_dir='C:\\\\Users\\\\Govardhan\\\\Capstone Projects\\\\Face detection',\n",
    "                                       save_prefix=\"User_\" + str(face_id), save_format='jpg'), range(100)):\n",
    "            ex = 1\n",
    "\n",
    "    k = cv2.waitKey(100) & 0xff\n",
    "    if k == 27:\n",
    "        break\n",
    "    if ex == 1:\n",
    "        break\n",
    "print(\"\\n Exiting Program and cleanup stuff\")\n",
    "cam.release()\n",
    "cv2.destroyAllWindows()\n",
    "\n",
    "from deepface import DeepFace\n",
    "\n",
    "db_path = \"C:\\\\Users\\\\Govardhan\\\\Capstone Projects\\\\Face detection\" #you should store facial images in this directory\n",
    "\n",
    "DeepFace.stream(db_path = db_path\n",
    "   , model_name = 'VGG-Face' #candidates are VGG-Face, Facenet, OpenFace, DeepFace, DeepID and Dlib\n",
    "   , enable_face_analysis = False)\n",
    "k = cv2.waitKey(10) & 0xff # Press 'ESC' for exiting video\n",
    "if k == 27:\n",
    "    break\n",
    "cam.release()\n",
    "cv2.destroyAllWindows()"
   ]
  },
  {
   "cell_type": "code",
   "execution_count": null,
   "id": "66a5cdaa",
   "metadata": {},
   "outputs": [],
   "source": []
  }
 ],
 "metadata": {
  "kernelspec": {
   "display_name": "Python 3",
   "language": "python",
   "name": "python3"
  },
  "language_info": {
   "codemirror_mode": {
    "name": "ipython",
    "version": 3
   },
   "file_extension": ".py",
   "mimetype": "text/x-python",
   "name": "python",
   "nbconvert_exporter": "python",
   "pygments_lexer": "ipython3",
   "version": "3.8.8"
  }
 },
 "nbformat": 4,
 "nbformat_minor": 5
}
